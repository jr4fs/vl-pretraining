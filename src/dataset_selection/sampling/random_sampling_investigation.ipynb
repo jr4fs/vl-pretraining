{
 "cells": [
  {
   "cell_type": "code",
   "execution_count": null,
   "metadata": {},
   "outputs": [],
   "source": [
    "import json\n",
    "import matplotlib.pyplot as plt\n",
    "import numpy as np\n",
    "import os\n",
    "import pandas as pd\n",
    "import re\n",
    "import seaborn as sns\n",
    "import math \n",
    "import collections\n",
    "from pycocotools.coco import COCO\n",
    "import requests\n",
    "import plotly.express as px\n",
    "import plotly.graph_objects as go\n",
    "from os import listdir\n",
    "from os.path import isfile, join\n",
    "import base64\n",
    "import itertools\n",
    "pd.set_option('display.max_columns', None)\n",
    "pd.set_option('display.max_colwidth', -1)\n",
    "sns.set(style='whitegrid', font_scale=1.6, font='Georgia', context='paper')\n",
    "\n",
    "from plotly.subplots import make_subplots\n",
    "import matplotlib.pyplot as plt\n",
    "import operator\n",
    "import plotly.figure_factory as ff\n",
    "import scipy\n",
    "import pickle \n",
    "from sklearn.neighbors import KernelDensity\n",
    "from tqdm import tqdm\n",
    "from collections import OrderedDict"
   ]
  },
  {
   "cell_type": "code",
   "execution_count": null,
   "metadata": {},
   "outputs": [],
   "source": [
    "base_path = '../../../snap/vqa/lxr111_multilabel_full_run_3/'\n",
    "sampling_ids = '../../../src/dataset_selection/sampling/samples/LXR111/multilabel_full/beta/beta_kernel/tophat/seed_965/alpha_2_beta_1_budget_10.pkl'\n",
    "df = pd.read_pickle(base_path+\"datamap_metrics.pkl\")\n",
    "\n",
    "with open(sampled_question_ids_path, 'rb') as f:\n",
    "    sampled_ids = pickle.load(f)\n",
    "\n",
    "df = dataframe.loc[dataframe['question_id'].isin(sampled_ids)]\n",
    "\n",
    "\n",
    "region = 'ambiguous'\n",
    "confidence_threshold = 0.01\n",
    "variability_threshold = 0.01\n",
    "\n",
    "# stacked bar chart -- fig 6 across all samples\n",
    "if region == 'hard':\n",
    "    # segment instances thresholded on confidence and variability to separate regions on datamap \n",
    "    df = df.loc[(df['confidence'] < confidence_threshold) & (df['variability'] < variability_threshold)]\n",
    "elif region == 'easy':\n",
    "    df = df.loc[(df['confidence'] > confidence_threshold) & (df['variability'] < variability_threshold)]\n",
    "else:\n",
    "    df = df.loc[(df['confidence'] > 0.4) &(df['confidence'] < 0.8) & (df['variability'] > 0.4)]\n",
    "\n"
   ]
  },
  {
   "cell_type": "code",
   "execution_count": null,
   "metadata": {},
   "outputs": [],
   "source": [
    "# bin by variability\n",
    "weight_counts = {\n",
    "    \"0-0.1\": np.array([70, 31, 58]),\n",
    "    \"0.1-0.2\": np.array([82, 37, 66]),\n",
    "    \"0.2-0.3\": np.array([82, 37, 66]),\n",
    "    \"0.3-0.4\": np.array([82, 37, 66]),\n",
    "    \"0.4-0.5\": np.array([82, 37, 66]),\n",
    "}\n",
    "# bin by confidence\n",
    "weight_counts = {\n",
    "    \"0-0.2\": np.array([70, 31, 58]),\n",
    "    \"0.2-0.4\": np.array([82, 37, 66]),\n",
    "    \"0.4-0.6\": np.array([82, 37, 66]),\n",
    "    \"0.6-0.8\": np.array([82, 37, 66]),\n",
    "    \"0.8-1.0\": np.array([82, 37, 66]),\n",
    "}\n",
    "# bin by region\n",
    "weight_counts = {\n",
    "    \"easy\": np.array([70, 31, 58]),\n",
    "    \"ambiguous\": np.array([82, 37, 66]),\n",
    "    \"hard\": np.array([82, 37, 66]),\n",
    "}\n"
   ]
  },
  {
   "cell_type": "code",
   "execution_count": null,
   "metadata": {},
   "outputs": [],
   "source": [
    "# for random sampling and beta sampling, get top question types like you did in test.ipynb and plot their binned confidence scores and binned variability scores\n",
    "\n",
    "\n",
    "# also calculate skew metrics comparing random and beta sampling class distributions "
   ]
  }
 ],
 "metadata": {
  "kernelspec": {
   "display_name": "Python 3",
   "language": "python",
   "name": "python3"
  },
  "language_info": {
   "name": "python",
   "version": "3.8.7 (default, Jun 23 2021, 23:32:48) \n[GCC 7.4.0]"
  },
  "orig_nbformat": 4,
  "vscode": {
   "interpreter": {
    "hash": "aee8b7b246df8f9039afb4144a1f6fd8d2ca17a180786b69acc140d282b71a49"
   }
  }
 },
 "nbformat": 4,
 "nbformat_minor": 2
}
