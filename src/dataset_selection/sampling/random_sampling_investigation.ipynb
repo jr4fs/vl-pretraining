{
 "cells": [
  {
   "cell_type": "code",
   "execution_count": null,
   "metadata": {},
   "outputs": [],
   "source": [
    "import json\n",
    "import matplotlib.pyplot as plt\n",
    "import numpy as np\n",
    "import os\n",
    "import pandas as pd\n",
    "import re\n",
    "import seaborn as sns\n",
    "import math \n",
    "import collections\n",
    "from pycocotools.coco import COCO\n",
    "import requests\n",
    "import plotly.express as px\n",
    "import plotly.graph_objects as go\n",
    "from os import listdir\n",
    "from os.path import isfile, join\n",
    "import base64\n",
    "import itertools\n",
    "pd.set_option('display.max_columns', None)\n",
    "pd.set_option('display.max_colwidth', -1)\n",
    "sns.set(style='whitegrid', font_scale=1.6, font='Georgia', context='paper')\n",
    "\n",
    "from plotly.subplots import make_subplots\n",
    "import matplotlib.pyplot as plt\n",
    "import operator\n",
    "import plotly.figure_factory as ff\n",
    "import scipy\n",
    "import pickle \n",
    "from sklearn.neighbors import KernelDensity\n",
    "from tqdm import tqdm\n",
    "from collections import OrderedDict"
   ]
  },
  {
   "cell_type": "code",
   "execution_count": null,
   "metadata": {},
   "outputs": [],
   "source": [
    "base_path = '../../../snap/vqa/lxr111_multilabel_full_run_3/'\n",
    "sampling_base = '../../../src/dataset_selection/sampling/samples/LXR111/multilabel_full/'\n",
    "sampling_ids = 'beta/beta_kernel/tophat/seed_965/alpha_2_beta_1_budget_10.pkl'\n",
    "def plot_stacked_region(base_path, sampling_base, sampling_ids_list):\n",
    "\n",
    "    region_counts = {\n",
    "        \"easy\": [],\n",
    "        \"ambiguous\": [],\n",
    "        \"hard\": [],\n",
    "    }\n",
    "\n",
    "    x_axis = []\n",
    "\n",
    "    df = pd.read_pickle(base_path+\"datamap_metrics.pkl\")\n",
    "\n",
    "    for sampled_question_ids_path in sampling_ids_list:\n",
    "        split_path = sampled_question_ids_path.split('/')\n",
    "        if 'beta' in sampled_question_ids_path:\n",
    "            sampling_name = split_path[2] + '_' + split_path[-1][:-14]\n",
    "        elif 'global' in sampled_question_ids_path:\n",
    "            sampling_name = split_path[0]\n",
    "        else:\n",
    "            sampling_name = 'classwise_' + split_path[0]\n",
    "        x_axis.append(sampling_name)\n",
    "        \n",
    "        with open(sampled_question_ids_path, 'rb') as f:\n",
    "            sampled_ids = pickle.load(f)\n",
    "\n",
    "        df_sampled = df.loc[df['question_id'].isin(sampled_ids)]\n",
    "\n",
    "        df_easy = df_sampled.loc[(df_sampled['confidence'] > 0.6) & (df_sampled['variability'] < 0.15)]\n",
    "        df_hard = df_sampled.loc[(df_sampled['confidence'] < 0.4) & (df_sampled['variability'] < 0.2)]\n",
    "        df_ambiguous = df_sampled.loc[df_sampled['variability'] > 0.3]\n",
    "\n",
    "        region_counts['easy'].append(len(df_easy))\n",
    "        region_counts['hard'].append(len(df_hard))\n",
    "        region_counts['ambiguous'].append(len(df_ambiguous))\n",
    "\n",
    "\n",
    "\n",
    "\n",
    "\n"
   ]
  },
  {
   "cell_type": "code",
   "execution_count": null,
   "metadata": {},
   "outputs": [],
   "source": [
    "# bin by variability\n",
    "weight_counts = {\n",
    "    \"0-0.1\": np.array([70, 31, 58]),\n",
    "    \"0.1-0.2\": np.array([82, 37, 66]),\n",
    "    \"0.2-0.3\": np.array([82, 37, 66]),\n",
    "    \"0.3-0.4\": np.array([82, 37, 66]),\n",
    "    \"0.4-0.5\": np.array([82, 37, 66]),\n",
    "}\n",
    "# bin by confidence\n",
    "weight_counts = {\n",
    "    \"0-0.2\": np.array([70, 31, 58]),\n",
    "    \"0.2-0.4\": np.array([82, 37, 66]),\n",
    "    \"0.4-0.6\": np.array([82, 37, 66]),\n",
    "    \"0.6-0.8\": np.array([82, 37, 66]),\n",
    "    \"0.8-1.0\": np.array([82, 37, 66]),\n",
    "}\n",
    "# bin by region\n",
    "weight_counts = {\n",
    "    \"easy\": np.array([70, 31, 58]),\n",
    "    \"ambiguous\": np.array([82, 37, 66]),\n",
    "    \"hard\": np.array([82, 37, 66]),\n",
    "}\n"
   ]
  },
  {
   "cell_type": "code",
   "execution_count": null,
   "metadata": {},
   "outputs": [],
   "source": [
    "# for random sampling and beta sampling, get top question types like you did in test.ipynb and plot their binned confidence scores and binned variability scores\n",
    "\n",
    "\n",
    "# also calculate skew metrics comparing random and beta sampling class distributions "
   ]
  }
 ],
 "metadata": {
  "kernelspec": {
   "display_name": "Python 3",
   "language": "python",
   "name": "python3"
  },
  "language_info": {
   "name": "python",
   "version": "3.8.7 (default, Jun 23 2021, 23:32:48) \n[GCC 7.4.0]"
  },
  "orig_nbformat": 4,
  "vscode": {
   "interpreter": {
    "hash": "aee8b7b246df8f9039afb4144a1f6fd8d2ca17a180786b69acc140d282b71a49"
   }
  }
 },
 "nbformat": 4,
 "nbformat_minor": 2
}
