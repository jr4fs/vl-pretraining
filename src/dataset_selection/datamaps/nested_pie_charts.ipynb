{
 "cells": [
  {
   "cell_type": "code",
   "execution_count": 1,
   "metadata": {},
   "outputs": [
    {
     "name": "stderr",
     "output_type": "stream",
     "text": [
      "/tmp/ipykernel_22319/1341984599.py:19: FutureWarning: Passing a negative integer is deprecated in version 1.0 and will not be supported in future version. Instead, use None to not limit the column width.\n",
      "  pd.set_option('display.max_colwidth', -1)\n"
     ]
    }
   ],
   "source": [
    "import json\n",
    "import matplotlib.pyplot as plt\n",
    "import numpy as np\n",
    "import os\n",
    "import pandas as pd\n",
    "import re\n",
    "import seaborn as sns\n",
    "import math \n",
    "import collections\n",
    "from pycocotools.coco import COCO\n",
    "import requests\n",
    "import plotly.express as px\n",
    "import plotly.graph_objects as go\n",
    "from os import listdir\n",
    "from os.path import isfile, join\n",
    "import base64\n",
    "import itertools\n",
    "pd.set_option('display.max_columns', None)\n",
    "pd.set_option('display.max_colwidth', -1)\n",
    "sns.set(style='whitegrid', font_scale=1.6, font='Georgia', context='paper')\n",
    "\n",
    "from plotly.subplots import make_subplots\n",
    "import matplotlib.pyplot as plt\n",
    "import operator\n",
    "import plotly.figure_factory as ff\n",
    "import scipy\n",
    "import pickle \n",
    "from sklearn.neighbors import KernelDensity\n",
    "from tqdm import tqdm\n",
    "from collections import OrderedDict"
   ]
  },
  {
   "cell_type": "code",
   "execution_count": 2,
   "metadata": {},
   "outputs": [],
   "source": [
    "sampling_base = '../../../src/dataset_selection/sampling/samples/LXR111/multilabel_full/'\n",
    "base_path = '../../../snap/vqa/lxr111_multilabel_full_run_3/'\n",
    "#sampling_path = 'beta/beta_kernel/tophat/seed_965/alpha_2_beta_1_budget_30.pkl'\n",
    "sampling_path = 'beta/beta_pvals/seed_965/alpha_1_beta_2_budget_30.pkl'\n",
    "df = pd.read_pickle(base_path+\"datamap_metrics.pkl\")\n",
    "\n",
    "with open(sampling_base + sampling_path, 'rb') as f:\n",
    "    sampled_ids = pickle.load(f)\n",
    "\n",
    "df_sampled = df.loc[df['question_id'].isin(sampled_ids)] \n",
    "\n"
   ]
  },
  {
   "cell_type": "code",
   "execution_count": 45,
   "metadata": {},
   "outputs": [],
   "source": [
    "all_questions = df['Question'].tolist()\n",
    "\n",
    "all_questions_preprocessed = []\n",
    "\n",
    "for quest in all_questions:\n",
    "    all_questions_preprocessed.append(quest[0].lower().split()[:4]) # crop questions by their first four words"
   ]
  },
  {
   "cell_type": "code",
   "execution_count": 70,
   "metadata": {},
   "outputs": [],
   "source": [
    "first_word_freq = {}\n",
    "for i in all_questions_preprocessed:\n",
    "    if \"'\" in i[0]:\n",
    "        contraction = i[0].index(\"'\")\n",
    "        first_word = i[0][:contraction]\n",
    "    else:\n",
    "        first_word = i[0]\n",
    "    if first_word not in first_word_freq:\n",
    "        first_word_freq[first_word] = 1\n",
    "    else:\n",
    "        first_word_freq[first_word] += 1\n",
    "\n",
    "top_stems = dict(sorted(first_word_freq.items(), key=lambda x:x[1], reverse=True)[:10])\n",
    "\n",
    "subset_questions = []\n",
    "for stem in top_stems:\n",
    "    for i in all_questions_preprocessed:\n",
    "        #if i[0].startswith(stem):\n",
    "        if \"'\" in i[0]:\n",
    "            contraction = i[0].index(\"'\")\n",
    "            i[0] = i[0][:contraction]\n",
    "        if i[0]==stem:\n",
    "            subset_questions.append(i)"
   ]
  },
  {
   "cell_type": "code",
   "execution_count": 71,
   "metadata": {},
   "outputs": [],
   "source": [
    "# for each stem in top_stems, create a subgroup for the second word\n",
    "# top_stems\n",
    "second_freq = {}\n",
    "third_freq = {}\n",
    "fourth_freq = {}\n",
    "\n",
    "for i in subset_questions:\n",
    "    first_two_words = ' '.join(i[:2])\n",
    "    first_three_words = ' '.join(i[:3])\n",
    "    first_four_words = ' '.join(i)\n",
    "\n",
    "    if first_two_words not in second_freq:\n",
    "        second_freq[first_two_words] = 1\n",
    "    else:\n",
    "        second_freq[first_two_words] += 1\n",
    "\n",
    "    if first_three_words not in third_freq:\n",
    "        third_freq[first_three_words] = 1\n",
    "    else:\n",
    "        third_freq[first_three_words] += 1\n",
    "    if first_four_words not in fourth_freq:\n",
    "        fourth_freq[first_four_words] = 1\n",
    "    else:\n",
    "        fourth_freq[first_four_words] += 1\n"
   ]
  },
  {
   "cell_type": "code",
   "execution_count": 80,
   "metadata": {},
   "outputs": [],
   "source": [
    "# create list of colors\n",
    "a, b, c, d, e, f, g, h, i, j =[plt.cm.Blues, plt.cm.Reds, plt.cm.Greens, plt.cm.Greys, plt.cm.Purples,\n",
    "                                plt.cm.Oranges, plt.cm.YlOrBr, plt.cm.YlOrRd, plt.cm.PuBuGn, plt.cm.YlGn]\n",
    "colors = [a, b, c, d, e, f, g, h, i, j]\n",
    "top_stems_keys = list(top_stems.keys())\n",
    "\n",
    "second_colors = []\n",
    "third_colors = []\n",
    "for idx, stem in enumerate(top_stems_keys):\n",
    "    for second_stem in second_freq:\n",
    "        if second_stem.startswith(stem):\n",
    "            second_colors.append(colors[idx](0.4))\n",
    "    for third_stem in third_freq:\n",
    "        if third_stem.startswith(stem):\n",
    "            third_colors.append(colors[idx](0.4))\n",
    "\n",
    "\n",
    "\n"
   ]
  },
  {
   "cell_type": "code",
   "execution_count": 89,
   "metadata": {},
   "outputs": [
    {
     "name": "stderr",
     "output_type": "stream",
     "text": [
      "findfont: Font family ['Georgia'] not found. Falling back to DejaVu Sans.\n",
      "findfont: Font family ['Georgia'] not found. Falling back to DejaVu Sans.\n"
     ]
    }
   ],
   "source": [
    "%matplotlib inline\n",
    "plt.rcParams['figure.figsize'] = [40, 40]\n",
    "\n",
    "stem_names = list(top_stems.keys())\n",
    "stem_freqs = list(top_stems.values())\n",
    "\n",
    "second_names=list(second_freq.keys())\n",
    "subgroup_names = []\n",
    "for second in second_names:\n",
    "    subgroup_names.append(second.split()[1])\n",
    "subgroup_size=list(second_freq.values())\n",
    "\n",
    "# third_names=list(third_freq.keys())\n",
    "# subgroup_names_three = []\n",
    "# for third in third_names:\n",
    "#     subgroup_names_three.append(third.split()[2])\n",
    "# subgroup_size_three=list(third_freq.values())\n",
    "\n",
    "\n",
    "#a, b, c, d, e, f, g, h, i, j =[plt.cm.Blues, plt.cm.Reds, plt.cm.Greens, plt.cm.Greys, plt.cm.Purples,\n",
    "#                                plt.cm.Oranges, plt.cm.YlOrBr, plt.cm.YlOrRd, plt.cm.PuBuGn, plt.cm.YlGn]\n",
    "# First Ring (outside)\n",
    "fig, ax = plt.subplots()\n",
    "ax.axis('equal')\n",
    "\n",
    "\n",
    "# mypie2, _ = ax.pie(subgroup_size_three, radius=1.3, labels=subgroup_names_three, colors=third_colors, rotatelabels=True, textprops={'fontsize': 6})\n",
    "# plt.setp( mypie2, width=0.4, edgecolor='white')\n",
    "\n",
    "# Second Ring (Inside)\n",
    "mypie2, _ = ax.pie(subgroup_size, radius=1.3, labels=subgroup_names, colors=second_colors, rotatelabels=True, textprops={'fontsize': 10})\n",
    "plt.setp( mypie2, width=0.4, edgecolor='white')\n",
    "\n",
    "mypie, _ = ax.pie(stem_freqs, radius=1.3-0.3, labels=stem_names, labeldistance=0.7, colors=[a(0.6), b(0.6), c(0.6), d(0.6), e(0.6), \n",
    "                                                                        f(0.6), g(0.6), h(0.6), i(0.6), j(0.6)], rotatelabels=True, textprops={'fontsize': 12})\n",
    "plt.setp( mypie, width=0.3, edgecolor='white')\n",
    "\n",
    "\n",
    "plt.margins(0,0)\n",
    "\n",
    "\n",
    "\n",
    "plt.show()"
   ]
  }
 ],
 "metadata": {
  "kernelspec": {
   "display_name": "lxmert",
   "language": "python",
   "name": "python3"
  },
  "language_info": {
   "codemirror_mode": {
    "name": "ipython",
    "version": 3
   },
   "file_extension": ".py",
   "mimetype": "text/x-python",
   "name": "python",
   "nbconvert_exporter": "python",
   "pygments_lexer": "ipython3",
   "version": "3.9.12"
  },
  "orig_nbformat": 4,
  "vscode": {
   "interpreter": {
    "hash": "408f321b22a65d7d3f121506280c03d9bcd580a47471795e8b6f8d70bb6ba487"
   }
  }
 },
 "nbformat": 4,
 "nbformat_minor": 2
}
