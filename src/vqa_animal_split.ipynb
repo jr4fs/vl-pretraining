{
 "cells": [
  {
   "cell_type": "code",
   "execution_count": 5,
   "metadata": {},
   "outputs": [],
   "source": [
    "import json\n",
    "import itertools\n",
    "\n"
   ]
  },
  {
   "cell_type": "code",
   "execution_count": 3,
   "metadata": {},
   "outputs": [],
   "source": [
    "def vqa_data(filename):\n",
    "    with open(filename) as fp:\n",
    "        listObj = json.load(fp)\n",
    "    print(type(listObj))\n",
    "    return listObj\n",
    "\n",
    "\n",
    "def generate_animal_candidates(listObj):\n",
    "    # If the 'sent' starts with 'what animal', append the answers to a list\n",
    "    # if 'sent' has 'animal' in the string, append answers to list \n",
    "    animal_candidates = []\n",
    "    animal_question_candidates = []\n",
    "    for example in listObj:\n",
    "        if example['sent'].startswith('what animal') or example['sent'].startswith('What animal'):\n",
    "            for i in example['label']:\n",
    "                animal_candidates.append(i)\n",
    "\n",
    "    for example in listObj:\n",
    "        if 'animal' in example['sent'] and example['answer_type']=='other':\n",
    "            for i in example['label']:\n",
    "                animal_question_candidates.append(i)\n",
    "    animal_candidates.extend(animal_question_candidates)\n",
    "    return set(animal_candidates)\n",
    "\n",
    "\n",
    "def generate_animal_candidates_kind(listObj):\n",
    "    # If the 'sent' starts with 'what animal', append the answers to a list\n",
    "    # if 'sent' has 'animal' in the string, append answers to list \n",
    "    animal_candidates = []\n",
    "    for example in listObj:\n",
    "        if 'kind of bird' in example['sent'] or 'kind of dog' in example['sent'] or 'kind of bear' in example['sent'] or \\\n",
    "        'kind of cow' in example['sent'] or 'kind of cat' in example['sent'] or 'kind of horse' in example['sent'] or 'breed' in example['sent']:\n",
    "            for i in example['label']:\n",
    "                animal_candidates.append(i)\n",
    "    return set(animal_candidates)\n"
   ]
  },
  {
   "cell_type": "code",
   "execution_count": 4,
   "metadata": {},
   "outputs": [
    {
     "name": "stdout",
     "output_type": "stream",
     "text": [
      "<class 'list'>\n",
      "<class 'list'>\n",
      "<class 'list'>\n"
     ]
    }
   ],
   "source": [
    "filename_minival = '../data/vqa/minival.json'\n",
    "filename_train = '../data/vqa/train.json'\n",
    "filename_nominival = '../data/vqa/nominival.json'\n",
    "\n",
    "\n",
    "listObj_minival = vqa_data(filename_minival)\n",
    "listObj_train = vqa_data(filename_train)\n",
    "listObj_nominival = vqa_data(filename_nominival)\n",
    "\n",
    "\n"
   ]
  },
  {
   "cell_type": "code",
   "execution_count": 6,
   "metadata": {},
   "outputs": [
    {
     "name": "stdout",
     "output_type": "stream",
     "text": [
      "333\n"
     ]
    }
   ],
   "source": [
    "minival_kind = generate_animal_candidates_kind(listObj_minival)\n",
    "train_kind = generate_animal_candidates_kind(listObj_train)\n",
    "nominival_kind = generate_animal_candidates_kind(listObj_nominival)\n",
    "\n",
    "candidates_kind = set(list(itertools.chain(minival_kind, train_kind, nominival_kind)))\n",
    "print(len(candidates_kind))"
   ]
  },
  {
   "cell_type": "code",
   "execution_count": 7,
   "metadata": {},
   "outputs": [
    {
     "name": "stdout",
     "output_type": "stream",
     "text": [
      "{'asian', 'crane', 'polar', 'ice cream', 'dalmatian', 'towel', 'pig', 'laying down', 'dairy', 'little', 'pitbull', 'dog', 'house', 'lamb', 'indoor', 'fruits', 'kitten', 'crows', 'robin', 'dogs', 'happy', 'german', '0', 'fake', 'cannot tell', 'schnauzer', 'mug', 'big', 'corgi', '4', 'penguin', 'pug', 'seagull', 'beige', 'cute', 'old', 'unclear', 'chalk', 'seagulls', 'blue', 'cows', 'green', 'love', 'girl', 'cats', 'outdoor', 'not', 'kites', 'rodeo', 'blue and gray', 'classic', 'striped', 'rainbow', 'giraffe', 'fast', 'sparrow', '10 years', 'cardinal', 'dachshund', 'beef', 'hiding', 'cocker spaniel', 'savannah', 'geese', 'wet', 'adult', 'african', 'mud', 'baseball', 'british', 'parakeet', 'white and brown', 'regular', 'alaska', \"can't tell\", 'rottweiler', 'flying', 'tan', 'ostrich', 'police', '15', 'sun', 'hawk', 'sweet', 'domestic', 'work', 'goats', 'paint', 'owl', 'unknown', 'polar bears', 'no water', 'no dog', 'poodle', 'cubs', 'hot', 'bulldog', 'siamese', 'honey', 'tag', 'pink', 'horses', 'pelican', 'lab', 'tiger', 'black and brown', 'water', \"i don't know\", 'normal', 'animal', 'station', 'parrot', 'not possible', 'purple', 'many', 'bull', 'low', 'small', 'yes', 'butterfly', 'unsure', 'fancy', 'hummingbird', 'cheese', 'gray and white', 'horse', 'suitcase', 'sleeping', '39', '5', 'wild', 'pigeons', 'elephant', 'indian', 'moon', 'short', 'jet', 'grizzly', 'stuffed', 'racing', 'greyhound', 'not sure', 'russian', 'deer', 'bad', 'race', 'huge', 'kodak', 'mountain', 'swan', 'cake', 'daisy', 'swans', 'hungry', 'van', '10', 'persian', 'herd', 'saddle', 'no cat', 'winnie pooh', 'mutt', 'plane', 'airplane', 'male', 'farm', 'rooster', 'no', 'female', 'calico', 'american', 'kite', 'sheepdog', 'blue jay', 'hot dog', 'budweiser', 'orange and white', 'cardinals', 'english', 'puma', '1', 'black and orange', 'tall', 'cartoon', 'plastic', 'teddy bear', '6', 'ginger', 'eagle', 'tabby', 'parrots', 'donkey', 'black and gray', 'fox', 'panda', 'birds', 'ducks', 'peacock', 'home', 'puppy', 'ranch', 'wii remote', 'tuna', 'brown and white', 'fur', 'socks', 'angry', 'gray', 'airplanes', 'toy', 'cranes', 'white and black', 'german shepherd', '3', 'climbing', 'teddy', 'chicken', 'dog food', 'full', 'milk', 'black and white', 'street', 'pizza', 'black white', 'thoroughbred', 'yellow', 'orioles', 'tropical', 'bamboo', 'collie', 'bone', 'riding', 'chihuahua', 'sheep', 'grazing', 'pomeranian', 'human', 'white and blue', 'forest', 'multi colored', 'baby', 'blue and black', 'white', 'looking', 'labrador', 'cat food', 'males', 'show', 'red', 'thick', 'dinner', 'blonde', 'goat', 'polar bear', 'man', 'spotted', 'duck', 'turkey', 'dead', 'statue', 'frisbee', 'meat', 'french', 'snow', 'nothing', 'fluffy', 'bob', 'pigeon', 'working', 'riding horses', 'cat', 'stuffed animal', '2', 'carriage', 'shepherd', 'planes', 'stork', 'black', 'inside', 'colored', 'pony', 'shih tzu', 'kiwi', 'flamingo', 'white and gray', 'red and white', \"it's not\", 'medium', 'salmon', 'bear', 'food', 'fish', 'cow', 'large', 'finch', 'young', 'orange', 'collar', 'terrier', 'dessert', 'leopard', 'metal', 'tired', 'nike', 'jumping', 'antelope', 'lap', 'boxer', 'teddy bears', 'beagle', 'woodpecker', \"don't know\", 'la', 'dark', 'japanese', 'bird', 'stuffed animals', 'pelicans', 'gray and black', 'california', 'golden retriever', 'tuxedo', 'india', 'riding horse', 'crow', 'brown', 'cream', 'cat and dog', 'painted', 'snake', 'husky', 'clydesdale', 'goose'}\n"
     ]
    }
   ],
   "source": [
    "print(candidates_kind)"
   ]
  },
  {
   "cell_type": "code",
   "execution_count": 35,
   "metadata": {},
   "outputs": [
    {
     "name": "stdout",
     "output_type": "stream",
     "text": [
      "1281\n"
     ]
    }
   ],
   "source": [
    "minival_candidates = generate_animal_candidates(listObj_minival)\n",
    "train_candidates = generate_animal_candidates(listObj_train)\n",
    "nominival_candidates = generate_animal_candidates(listObj_nominival)\n",
    "\n",
    "all_candidates = set(list(itertools.chain(minival_candidates, train_candidates, nominival_candidates)))\n",
    "\n",
    "print(len(all_candidates))\n",
    "with open('animal_candidates.json', 'w') as f:\n",
    "    json.dump(list(all_candidates), f)"
   ]
  }
 ],
 "metadata": {
  "kernelspec": {
   "display_name": "Python 3.9.12 ('lxmert': conda)",
   "language": "python",
   "name": "python3"
  },
  "language_info": {
   "codemirror_mode": {
    "name": "ipython",
    "version": 3
   },
   "file_extension": ".py",
   "mimetype": "text/x-python",
   "name": "python",
   "nbconvert_exporter": "python",
   "pygments_lexer": "ipython3",
   "version": "3.9.12"
  },
  "orig_nbformat": 4,
  "vscode": {
   "interpreter": {
    "hash": "408f321b22a65d7d3f121506280c03d9bcd580a47471795e8b6f8d70bb6ba487"
   }
  }
 },
 "nbformat": 4,
 "nbformat_minor": 2
}
